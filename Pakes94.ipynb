{
 "cells": [
  {
   "cell_type": "code",
   "execution_count": 16,
   "metadata": {},
   "outputs": [
    {
     "name": "stdout",
     "output_type": "stream",
     "text": [
      "35"
     ]
    },
    {
     "data": {
      "text/plain": [
       "12×4 Array{Float64,2}:\n",
       " 4.87386   7.24017    0.204888  4.73162\n",
       " 0.824794  4.70371    1.34623   1.35682\n",
       " 4.93894   3.48123    1.01417   2.90534\n",
       " 2.12931   6.74171    5.54395   2.64344\n",
       " 5.9215    3.60883    6.48337   1.12076\n",
       " 3.14698   7.71517    5.37643   3.8138 \n",
       " 5.05236   6.54094    6.12791   7.29539\n",
       " 7.1704    7.70386    0.877399  7.77043\n",
       " 3.98      1.64909    0.13358   2.18113\n",
       " 6.99959   0.0257385  1.53601   7.77808\n",
       " 7.13361   5.16714    8.32554   3.51877\n",
       " 7.92664   7.42702    8.06916   7.31204"
      ]
     },
     "execution_count": 16,
     "metadata": {},
     "output_type": "execute_result"
    }
   ],
   "source": [
    "############################# Pakes94 #############################\n",
    "include(\"./functions.jl\")\n",
    "using PyPlot\n",
    "\n",
    "N = 4; # max number of firms\n",
    "wiMax = 19; # highest value of productivity\n",
    "\n",
    "a = 3;\n",
    "phi \n",
    "beta = 0.925;\n",
    "delta = 0.7; # probability of a negative industry-wide shock\n",
    "\n",
    "size = N + wiMax + 1;\n",
    "Binom = eye(size); # the matrix used for encoding/decoding\n",
    "for i=2:size\n",
    "    Binom[i,1] = 1;\n",
    "\n",
    "    for j=2:i-1 # everything beyond i is 0\n",
    "        # calculate Binomial coefficients (more computationally-stable)\n",
    "        Binom[i,j] = Binom[i-1, j] + Binom[i-1, j-1];\n",
    "    end\n",
    "end\n",
    "Binom = [zeros(size, 1) Binom];\n",
    "\n",
    "sizeWstar = Binom[size, wiMax+2]; # size of the state space\n",
    "\n",
    "# calculate profit\n",
    "Profit = pcprofit(sizeWstar, N);\n",
    "\n",
    "###################### solve for equilibrium ######################\n",
    "\n",
    "iter = 0; maxiter = 1e5;\n",
    "diff = 1;\n",
    "tol = 1e-1;\n",
    "\n",
    "# set initial policy function\n",
    "Xold = zeros(sizeWstar, N);\n",
    "\n",
    "while diff > tol\n",
    "\n",
    "    iter = iter + 1;\n",
    "\n",
    "    for i=1:sizeWstar\n",
    "        for j=1:N\n",
    "            # update entry and exit\n",
    "            if Vold[i, j] < phi\n",
    "                # the firm exits\n",
    "            end\n",
    "\n",
    "            # update X elementwise using equation (6)\n",
    "            Xnew[i, j] = p(x)/( a - a*p(x) );\n",
    "\n",
    "            # update V elementwise\n",
    "            pi = Profit[i,j];\n",
    "            xi = Xnew[i,j];\n",
    "\n",
    "            calcval_term = a*xi/(1+a*xi) * calcval() + 1/(1+a*xi) * calcval();\n",
    "\n",
    "            Vnew[i, j] = max(phi, pi - c*xi + beta * calcval_term);\n",
    "        end\n",
    "    end\n",
    "\n",
    "    diff = norm(Xnew - Xold) + norm(Vnew - Vold);\n",
    "\n",
    "    Xold = Xnew;\n",
    "    Vold = Vnew;\n",
    "\n",
    "    if iter > maxiter\n",
    "        println(\"Warning: maximum number of iterations exceeded\")\n",
    "        break\n",
    "    end\n",
    "\n",
    "end\n",
    "\n",
    "print(\"$iter\")\n",
    "print(Xold)\n",
    "\n",
    "################### end solving for equilibrium ###################\n"
   ]
  },
  {
   "cell_type": "code",
   "execution_count": 98,
   "metadata": {},
   "outputs": [
    {
     "name": "stdout",
     "output_type": "stream",
     "text": [
      "elapsed time: 0.027668991 seconds\n",
      "elapsed time: 0.021000099 seconds\n"
     ]
    },
    {
     "data": {
      "text/plain": [
       "60×60 Array{Float64,2}:\n",
       " 1.0   0.0     0.0      0.0       0.0  …      0.0     0.0   0.0  0.0\n",
       " 1.0   1.0     0.0      0.0       0.0         0.0     0.0   0.0  0.0\n",
       " 1.0   2.0     1.0      0.0       0.0         0.0     0.0   0.0  0.0\n",
       " 1.0   3.0     3.0      1.0       0.0         0.0     0.0   0.0  0.0\n",
       " 1.0   4.0     6.0      4.0       1.0         0.0     0.0   0.0  0.0\n",
       " 1.0   5.0    10.0     10.0       5.0  …      0.0     0.0   0.0  0.0\n",
       " 1.0   6.0    15.0     20.0      15.0         0.0     0.0   0.0  0.0\n",
       " 1.0   7.0    21.0     35.0      35.0         0.0     0.0   0.0  0.0\n",
       " 1.0   8.0    28.0     56.0      70.0         0.0     0.0   0.0  0.0\n",
       " 1.0   9.0    36.0     84.0     126.0         0.0     0.0   0.0  0.0\n",
       " 1.0  10.0    45.0    120.0     210.0  …      0.0     0.0   0.0  0.0\n",
       " 1.0  11.0    55.0    165.0     330.0         0.0     0.0   0.0  0.0\n",
       " 1.0  12.0    66.0    220.0     495.0         0.0     0.0   0.0  0.0\n",
       " ⋮                                     ⋱                            \n",
       " 1.0  48.0  1128.0  17296.0  194580.0         0.0     0.0   0.0  0.0\n",
       " 1.0  49.0  1176.0  18424.0  211876.0         0.0     0.0   0.0  0.0\n",
       " 1.0  50.0  1225.0  19600.0  230300.0  …      0.0     0.0   0.0  0.0\n",
       " 1.0  51.0  1275.0  20825.0  249900.0         0.0     0.0   0.0  0.0\n",
       " 1.0  52.0  1326.0  22100.0  270725.0         0.0     0.0   0.0  0.0\n",
       " 1.0  53.0  1378.0  23426.0  292825.0         0.0     0.0   0.0  0.0\n",
       " 1.0  54.0  1431.0  24804.0  316251.0         0.0     0.0   0.0  0.0\n",
       " 1.0  55.0  1485.0  26235.0  341055.0  …      0.0     0.0   0.0  0.0\n",
       " 1.0  56.0  1540.0  27720.0  367290.0         1.0     0.0   0.0  0.0\n",
       " 1.0  57.0  1596.0  29260.0  395010.0        57.0     1.0   0.0  0.0\n",
       " 1.0  58.0  1653.0  30856.0  424270.0      1653.0    58.0   1.0  0.0\n",
       " 1.0  59.0  1711.0  32509.0  455126.0     32509.0  1711.0  59.0  1.0"
      ]
     },
     "execution_count": 98,
     "metadata": {},
     "output_type": "execute_result"
    }
   ],
   "source": [
    "N = 60;\n",
    "\n",
    "tic()\n",
    "A = eye(N);\n",
    "\n",
    "for i=2:N\n",
    "    A[i,1] = 1;\n",
    "    for j=2:i-1 # everything beyond i is 0\n",
    "        # calculate Binomial coefficients (more computationally-stable)\n",
    "        A[i,j] = A[i-1, j] + A[i-1, j-1];\n",
    "    end\n",
    "end\n",
    "toc()\n",
    "\n",
    "#############################################################\n",
    "\n",
    "tic()\n",
    "B = eye(N);\n",
    "\n",
    "for i=2:N\n",
    "    for j=1:i-1 # everything beyond i is 0 \n",
    "        B[i,j] = binomial(i-1, j-1);\n",
    "    end\n",
    "end\n",
    "toc()\n",
    "\n",
    "A"
   ]
  },
  {
   "cell_type": "code",
   "execution_count": null,
   "metadata": {},
   "outputs": [],
   "source": []
  }
 ],
 "metadata": {
  "kernelspec": {
   "display_name": "Julia 0.6.2",
   "language": "julia",
   "name": "julia-0.6"
  },
  "language_info": {
   "file_extension": ".jl",
   "mimetype": "application/julia",
   "name": "julia",
   "version": "0.6.2"
  }
 },
 "nbformat": 4,
 "nbformat_minor": 2
}
