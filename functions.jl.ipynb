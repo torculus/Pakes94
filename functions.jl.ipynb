{
 "cells": [
  {
   "cell_type": "code",
   "execution_count": null,
   "metadata": {},
   "outputs": [],
   "source": [
    "###################### Encoding functions ######################\n",
    "\n",
    "function encode(Binom, mktstruct, N)\n",
    "\n",
    "    encode = 1;\n",
    "\n",
    "    for i=1:N\n",
    "        wi = mktstruct[i];\n",
    "\n",
    "        bi = Binom[wi+N+1-i, wi+1];\n",
    "\n",
    "        encode = encode + bi;\n",
    "    end\n",
    "\n",
    "    return encode;\n",
    "\n",
    "end\n",
    "\n",
    "function decode(Binom, num, N)\n",
    "\n",
    "    w = zeros(1,N);\n",
    "\n",
    "    num = num - 1;\n",
    "\n",
    "    for i=1:N\n",
    "        digit = 0;\n",
    "        while Binom[digit+N+2-i, digit+2] <= num;\n",
    "            digit = digit+1;\n",
    "        end\n",
    "\n",
    "        w[i] = digit;\n",
    "\n",
    "        num = num - Binom[digit + N + 1-i, digit+1];\n",
    "    end\n",
    "\n",
    "    return w;\n",
    "end\n",
    "\n",
    "###################### Profit functions ######################\n",
    "\n",
    "function pcprofit(a,b)\n",
    "    return rand(a,b);\n",
    "end"
   ]
  }
 ],
 "metadata": {
  "kernelspec": {
   "display_name": "Julia 0.6.2",
   "language": "julia",
   "name": "julia-0.6"
  },
  "language_info": {
   "file_extension": ".jl",
   "mimetype": "application/julia",
   "name": "julia",
   "version": "0.6.2"
  }
 },
 "nbformat": 4,
 "nbformat_minor": 2
}
