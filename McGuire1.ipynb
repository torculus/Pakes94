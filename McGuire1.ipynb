{
 "cells": [
  {
   "cell_type": "code",
   "execution_count": 1,
   "metadata": {},
   "outputs": [
    {
     "data": {
      "text/plain": [
       "trackVisits (generic function with 1 method)"
      ]
     },
     "execution_count": 1,
     "metadata": {},
     "output_type": "execute_result"
    }
   ],
   "source": [
    "function trackVisits(state)\n",
    "    count;\n",
    "end"
   ]
  },
  {
   "cell_type": "code",
   "execution_count": 17,
   "metadata": {},
   "outputs": [
    {
     "data": {
      "text/plain": [
       "int2tuple (generic function with 1 method)"
      ]
     },
     "execution_count": 17,
     "metadata": {},
     "output_type": "execute_result"
    }
   ],
   "source": [
    "function tuple2int(tuple)\n",
    "    return sum(tuple);\n",
    "end\n",
    "\n",
    "function int2tuple(num)\n",
    "    tuple = [num, num, num];\n",
    "    return tuple;\n",
    "end"
   ]
  },
  {
   "cell_type": "code",
   "execution_count": null,
   "metadata": {},
   "outputs": [],
   "source": [
    "using Plots\n",
    "\n",
    "MaxFirms = 4\n",
    "\n",
    "entry_low = 0.15;\n",
    "entry_high = 0.25;\n",
    "entry_sunk = 0.2;\n",
    "entry_at = 4;\n",
    "\n",
    "beta = 0.925;\n",
    "delta = 0.7;\n",
    "scrap_value = 0.1;\n",
    "inv_mult = 3;\n",
    "inv_cost = 1;\n",
    "MC = 5;\n",
    "market_size = 5;\n",
    "kMax = 19;\n",
    "wStar = 12;\n",
    "intercept = 3;\n",
    "FC = 0.2;\n",
    "gamma = 1;\n",
    "tau = 0.1;\n",
    "\n",
    "\n",
    "# calculate profit\n",
    "Profit = rand(wStar, MaxFirms);\n",
    "\n",
    "############################################### solve for equilibrium ###############################################\n",
    "\n",
    "iter = 0; maxiter = 1e5;\n",
    "diff = 1;\n",
    "tol = 1e-1;\n",
    "\n",
    "# set initial policy function\n",
    "Xold = zeros(wStar, MaxFirms);\n",
    "\n",
    "while diff > tol\n",
    "    \n",
    "    iter = iter + 1;\n",
    "    \n",
    "    Xnew = 0.9*(Xold + Profit);\n",
    "    \n",
    "    diff = norm(Xnew - Xold);\n",
    "    \n",
    "    Xold = Xnew;\n",
    "        \n",
    "    if iter > maxiter\n",
    "        println(\"Maximum number of iterations exceeded\")\n",
    "        break\n",
    "    end\n",
    "    \n",
    "end\n",
    "\n",
    "print(\"$iter\")\n",
    "Xold\n",
    "\n",
    "############################################ end solving for equilibrium #############################################"
   ]
  }
 ],
 "metadata": {
  "kernelspec": {
   "display_name": "Julia 0.6.2",
   "language": "julia",
   "name": "julia-0.6"
  },
  "language_info": {
   "file_extension": ".jl",
   "mimetype": "application/julia",
   "name": "julia",
   "version": "0.6.2"
  }
 },
 "nbformat": 4,
 "nbformat_minor": 2
}
