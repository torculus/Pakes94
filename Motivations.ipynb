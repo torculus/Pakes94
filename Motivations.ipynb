{
 "cells": [
  {
   "cell_type": "code",
   "execution_count": 24,
   "metadata": {},
   "outputs": [
    {
     "data": {
      "text/plain": [
       "int2tuple (generic function with 1 method)"
      ]
     },
     "execution_count": 24,
     "metadata": {},
     "output_type": "execute_result"
    }
   ],
   "source": [
    "function tuple2int(tuple, N)\n",
    "    \n",
    "    Binom = zeros(N, N); Binom[1,2] = 1;\n",
    "    \n",
    "    for i=2:N\n",
    "        for j=2:N\n",
    "            Binom[i,j] = Binom[i-1, j] + Binom[i-1, j-1];\n",
    "        end\n",
    "    end\n",
    "    \n",
    "    print(Binom)\n",
    "    \n",
    "    return sum(tuple);\n",
    "end\n",
    "\n",
    "function int2tuple(num)\n",
    "    tuple = [num, num, num];\n",
    "    return tuple;\n",
    "end"
   ]
  },
  {
   "cell_type": "code",
   "execution_count": 16,
   "metadata": {},
   "outputs": [
    {
     "name": "stdout",
     "output_type": "stream",
     "text": [
      "35"
     ]
    },
    {
     "data": {
      "text/plain": [
       "12×4 Array{Float64,2}:\n",
       " 4.87386   7.24017    0.204888  4.73162\n",
       " 0.824794  4.70371    1.34623   1.35682\n",
       " 4.93894   3.48123    1.01417   2.90534\n",
       " 2.12931   6.74171    5.54395   2.64344\n",
       " 5.9215    3.60883    6.48337   1.12076\n",
       " 3.14698   7.71517    5.37643   3.8138 \n",
       " 5.05236   6.54094    6.12791   7.29539\n",
       " 7.1704    7.70386    0.877399  7.77043\n",
       " 3.98      1.64909    0.13358   2.18113\n",
       " 6.99959   0.0257385  1.53601   7.77808\n",
       " 7.13361   5.16714    8.32554   3.51877\n",
       " 7.92664   7.42702    8.06916   7.31204"
      ]
     },
     "execution_count": 16,
     "metadata": {},
     "output_type": "execute_result"
    }
   ],
   "source": [
    "using Plots\n",
    "\n",
    "MaxFirms = 4\n",
    "\n",
    "entry_low = 0.15;\n",
    "entry_high = 0.25;\n",
    "entry_sunk = 0.2;\n",
    "entry_at = 4;\n",
    "\n",
    "beta = 0.925;\n",
    "delta = 0.7;\n",
    "scrap_value = 0.1;\n",
    "inv_mult = 3;\n",
    "inv_cost = 1;\n",
    "MC = 5;\n",
    "market_size = 5;\n",
    "kMax = 19;\n",
    "wStar = 12;\n",
    "intercept = 3;\n",
    "FC = 0.2;\n",
    "gamma = 1;\n",
    "tau = 0.1;\n",
    "\n",
    "\n",
    "# calculate profit\n",
    "Profit = rand(wStar, MaxFirms);\n",
    "\n",
    "############################################### solve for equilibrium ###############################################\n",
    "\n",
    "iter = 0; maxiter = 1e5;\n",
    "diff = 1;\n",
    "tol = 1e-1;\n",
    "\n",
    "# set initial policy function\n",
    "Xold = zeros(wStar, MaxFirms);\n",
    "\n",
    "while diff > tol\n",
    "    \n",
    "    iter = iter + 1;\n",
    "    \n",
    "    Xnew = 0.9*(Xold + Profit);\n",
    "    \n",
    "    diff = norm(Xnew - Xold);\n",
    "    \n",
    "    Xold = Xnew;\n",
    "        \n",
    "    if iter > maxiter\n",
    "        println(\"Maximum number of iterations exceeded\")\n",
    "        break\n",
    "    end\n",
    "    \n",
    "end\n",
    "\n",
    "print(\"$iter\")\n",
    "Xold\n",
    "\n",
    "############################################ end solving for equilibrium #############################################\n",
    "\n"
   ]
  },
  {
   "cell_type": "code",
   "execution_count": 6,
   "metadata": {},
   "outputs": [
    {
     "name": "stdout",
     "output_type": "stream",
     "text": [
      "(1, 1)\n",
      "(2, 1)\n",
      "(2, 2)\n",
      "(3, 1)\n",
      "(3, 2)\n",
      "(3, 3)\n",
      "(4, 1)\n",
      "(4, 2)\n",
      "(4, 3)\n",
      "(4, 4)\n"
     ]
    }
   ],
   "source": [
    "MaxFirms = 4;\n",
    "\n",
    "for i=1:MaxFirms\n",
    "    for j=1:MaxFirms\n",
    "        \n",
    "        if i >= j\n",
    "            print(\"($i, $j)\\n\")\n",
    "        end\n",
    "        \n",
    "    end\n",
    "end"
   ]
  },
  {
   "cell_type": "code",
   "execution_count": 98,
   "metadata": {},
   "outputs": [
    {
     "name": "stdout",
     "output_type": "stream",
     "text": [
      "elapsed time: 0.027668991 seconds\n",
      "elapsed time: 0.021000099 seconds\n"
     ]
    },
    {
     "data": {
      "text/plain": [
       "60×60 Array{Float64,2}:\n",
       " 1.0   0.0     0.0      0.0       0.0  …      0.0     0.0   0.0  0.0\n",
       " 1.0   1.0     0.0      0.0       0.0         0.0     0.0   0.0  0.0\n",
       " 1.0   2.0     1.0      0.0       0.0         0.0     0.0   0.0  0.0\n",
       " 1.0   3.0     3.0      1.0       0.0         0.0     0.0   0.0  0.0\n",
       " 1.0   4.0     6.0      4.0       1.0         0.0     0.0   0.0  0.0\n",
       " 1.0   5.0    10.0     10.0       5.0  …      0.0     0.0   0.0  0.0\n",
       " 1.0   6.0    15.0     20.0      15.0         0.0     0.0   0.0  0.0\n",
       " 1.0   7.0    21.0     35.0      35.0         0.0     0.0   0.0  0.0\n",
       " 1.0   8.0    28.0     56.0      70.0         0.0     0.0   0.0  0.0\n",
       " 1.0   9.0    36.0     84.0     126.0         0.0     0.0   0.0  0.0\n",
       " 1.0  10.0    45.0    120.0     210.0  …      0.0     0.0   0.0  0.0\n",
       " 1.0  11.0    55.0    165.0     330.0         0.0     0.0   0.0  0.0\n",
       " 1.0  12.0    66.0    220.0     495.0         0.0     0.0   0.0  0.0\n",
       " ⋮                                     ⋱                            \n",
       " 1.0  48.0  1128.0  17296.0  194580.0         0.0     0.0   0.0  0.0\n",
       " 1.0  49.0  1176.0  18424.0  211876.0         0.0     0.0   0.0  0.0\n",
       " 1.0  50.0  1225.0  19600.0  230300.0  …      0.0     0.0   0.0  0.0\n",
       " 1.0  51.0  1275.0  20825.0  249900.0         0.0     0.0   0.0  0.0\n",
       " 1.0  52.0  1326.0  22100.0  270725.0         0.0     0.0   0.0  0.0\n",
       " 1.0  53.0  1378.0  23426.0  292825.0         0.0     0.0   0.0  0.0\n",
       " 1.0  54.0  1431.0  24804.0  316251.0         0.0     0.0   0.0  0.0\n",
       " 1.0  55.0  1485.0  26235.0  341055.0  …      0.0     0.0   0.0  0.0\n",
       " 1.0  56.0  1540.0  27720.0  367290.0         1.0     0.0   0.0  0.0\n",
       " 1.0  57.0  1596.0  29260.0  395010.0        57.0     1.0   0.0  0.0\n",
       " 1.0  58.0  1653.0  30856.0  424270.0      1653.0    58.0   1.0  0.0\n",
       " 1.0  59.0  1711.0  32509.0  455126.0     32509.0  1711.0  59.0  1.0"
      ]
     },
     "execution_count": 98,
     "metadata": {},
     "output_type": "execute_result"
    }
   ],
   "source": [
    "N = 60;\n",
    "\n",
    "tic()\n",
    "A = eye(N);\n",
    "\n",
    "for i=2:N\n",
    "    A[i,1] = 1;\n",
    "    for j=2:i-1 # everything beyond i is 0\n",
    "        # calculate Binomial coefficients (more computationally-stable)\n",
    "        A[i,j] = A[i-1, j] + A[i-1, j-1];\n",
    "    end\n",
    "end\n",
    "toc()\n",
    "\n",
    "#############################################################\n",
    "\n",
    "tic()\n",
    "B = eye(N);\n",
    "\n",
    "for i=2:N\n",
    "    for j=1:i-1 # everything beyond i is 0 \n",
    "        B[i,j] = binomial(i-1, j-1);\n",
    "    end\n",
    "end\n",
    "toc()\n",
    "\n",
    "A"
   ]
  },
  {
   "cell_type": "code",
   "execution_count": null,
   "metadata": {},
   "outputs": [],
   "source": [
    "workspace()\n",
    "\n",
    "include(\"./functions.jl\")\n",
    "\n",
    "N = 2; wiMax = 19;\n",
    "\n",
    "size = N + wiMax + 1;\n",
    "\n",
    "Binom = eye(size);\n",
    "\n",
    "for i=2:size\n",
    "    Binom[i,1] = 1;\n",
    "\n",
    "    for j=2:i-1 # everything beyond i is 0\n",
    "        # calculate Binomial coefficients (more computationally-stable)\n",
    "        Binom[i,j] = Binom[i-1, j] + Binom[i-1, j-1];\n",
    "    end\n",
    "end\n",
    "\n",
    "Binom = [zeros(size, 1) Binom];\n",
    "\n",
    "sizeWstar = Binom[size, wiMax+2];\n",
    "\n",
    "#f = open(\"results.txt\", \"r+\")\n",
    "\n",
    "for i=1:sizeWstar\n",
    "    d = decode(Binom, i, N);\n",
    "\n",
    "    id = convert(Array{Integer}, floor.(d));\n",
    "\n",
    "    e = encode(Binom, id, N);\n",
    "\n",
    "    print(\"$d, $e\\n\")\n",
    "end\n"
   ]
  }
 ],
 "metadata": {
  "kernelspec": {
   "display_name": "Julia 0.6.2",
   "language": "julia",
   "name": "julia-0.6"
  },
  "language_info": {
   "file_extension": ".jl",
   "mimetype": "application/julia",
   "name": "julia",
   "version": "0.6.2"
  }
 },
 "nbformat": 4,
 "nbformat_minor": 2
}
